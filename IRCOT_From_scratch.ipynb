{
 "cells": [
  {
   "cell_type": "code",
   "execution_count": 1,
   "id": "70c2a21a",
   "metadata": {},
   "outputs": [],
   "source": [
    "import qdrant_client\n",
    "from langchain.vectorstores import Qdrant\n",
    "from langchain_huggingface import HuggingFaceEmbeddings\n",
    "from langchain.text_splitter import RecursiveCharacterTextSplitter\n",
    "from langchain.schema import Document\n",
    "import os\n",
    "import re\n",
    "import json\n",
    "from config import EMBEDDING_MODEL, QDRANT_HOST, QDRANT_API_KEY, QDRANT_COLECTION_NAME, EMBEDDING_SIZE\n",
    "\n"
   ]
  },
  {
   "cell_type": "code",
   "execution_count": 2,
   "id": "6739ab24",
   "metadata": {},
   "outputs": [],
   "source": [
    "def load_json(file_path):\n",
    "    if not os.path.exists(file_path):\n",
    "        raise FileNotFoundError(f\"File not found: {file_path}\")\n",
    "    with open(file_path, \"r\", encoding=\"utf-8\") as f:\n",
    "        return json.load(f)\n",
    "    \n",
    "def load_txt(file_path):\n",
    "    if not os.path.exists(file_path):\n",
    "        raise FileNotFoundError(f\"File not found: {file_path}\")\n",
    "    with open(file_path, \"r\", encoding=\"utf-8\") as f:\n",
    "        full_text = f.read()\n",
    "    return full_text\n",
    "\n",
    "def clean_text(text: str) -> str:\n",
    "    text = re.sub(r'[ \\t]+', ' ', text)\n",
    "    text = re.sub(r'\\n\\s*\\n+', '\\n\\n', text)\n",
    "\n",
    "    return text.strip()"
   ]
  },
  {
   "cell_type": "code",
   "execution_count": 3,
   "id": "658887a7",
   "metadata": {},
   "outputs": [
    {
     "name": "stdout",
     "output_type": "stream",
     "text": [
      "Title:200+ of the best deals from Amazon's Cyber Monday sale\n",
      "Passage:Table of Contents Table of Contents Echo, Fire TV, and Kindle deals Apple deals TV deals Laptop deals Headphone and earbud deals Tablet deals Gaming deals Speaker deals Vacuum deals Kitchen deals Smart home deals Fitness deals Beauty tech deals Drone deals Camera deals Lego deals Gift card deals\n",
      "\n",
      "UPDATE: Nov. 27, 2023, 5:00 a.m. EST This post has been updated with all of the latest Cyber Monday deals available at Amazon.\n",
      "\n",
      "Amazon is dragging out the year's biggest shopping holiday(s) into 11 days of deals.\n",
      "\n",
      "The retail giant began its Black Friday sale in the early morning of Friday, Nov. 17 (a week ahead of schedule) and was on top of making the switch to Cyber Monday language in the wee hours of Saturday, Nov. 25. Official Cyber Monday mode, which is currently on through Monday, Nov. 27, includes both a ton of deals carried over from Black Friday plus some new ones.\n",
      "\n",
      "We're curating a running list of Amazon's best Cybe\n"
     ]
    }
   ],
   "source": [
    "raw_docs = clean_text(load_txt(\"data/corpus.txt\"))\n",
    "\n",
    "print(raw_docs[:1000])"
   ]
  },
  {
   "cell_type": "code",
   "execution_count": 4,
   "id": "519d0f9b",
   "metadata": {},
   "outputs": [],
   "source": [
    "splitter = RecursiveCharacterTextSplitter(chunk_size=300, chunk_overlap=50)\n",
    "chunks = splitter.split_text(raw_docs)\n",
    "docs = [Document(page_content=chunk) for chunk in chunks]"
   ]
  },
  {
   "cell_type": "code",
   "execution_count": 5,
   "id": "9395d328",
   "metadata": {},
   "outputs": [
    {
     "name": "stderr",
     "output_type": "stream",
     "text": [
      "c:\\Users\\Admin\\anaconda3\\envs\\chatbot_py310\\lib\\site-packages\\tqdm\\auto.py:21: TqdmWarning: IProgress not found. Please update jupyter and ipywidgets. See https://ipywidgets.readthedocs.io/en/stable/user_install.html\n",
      "  from .autonotebook import tqdm as notebook_tqdm\n"
     ]
    },
    {
     "name": "stdout",
     "output_type": "stream",
     "text": [
      "WARNING:tensorflow:From c:\\Users\\Admin\\anaconda3\\envs\\chatbot_py310\\lib\\site-packages\\tf_keras\\src\\losses.py:2976: The name tf.losses.sparse_softmax_cross_entropy is deprecated. Please use tf.compat.v1.losses.sparse_softmax_cross_entropy instead.\n",
      "\n"
     ]
    },
    {
     "name": "stderr",
     "output_type": "stream",
     "text": [
      "C:\\Users\\Admin\\AppData\\Local\\Temp\\ipykernel_7216\\1766363058.py:11: LangChainDeprecationWarning: The class `Qdrant` was deprecated in LangChain 0.0.37 and will be removed in 1.0. An updated version of the class exists in the :class:`~langchain-qdrant package and should be used instead. To use it run `pip install -U :class:`~langchain-qdrant` and import as `from :class:`~langchain_qdrant import Qdrant``.\n",
      "  vector_store = Qdrant(\n"
     ]
    }
   ],
   "source": [
    "from qdrant_client.http.models import Distance, VectorParams\n",
    "#Load to Qdrant\n",
    "\n",
    "embedding = HuggingFaceEmbeddings(model_name=EMBEDDING_MODEL)\n",
    "\n",
    "client = qdrant_client.QdrantClient(\n",
    "    QDRANT_HOST,\n",
    "    api_key = QDRANT_API_KEY,\n",
    ")\n",
    "\n",
    "vector_store = Qdrant(\n",
    "    client=client,\n",
    "    collection_name=QDRANT_COLECTION_NAME,\n",
    "    embeddings=embedding,\n",
    ")"
   ]
  },
  {
   "cell_type": "code",
   "execution_count": 6,
   "id": "63781c4c",
   "metadata": {},
   "outputs": [],
   "source": [
    "#Add docs to qdrant\n",
    "#vector_store.add_documents(documents=docs)"
   ]
  },
  {
   "cell_type": "code",
   "execution_count": 7,
   "id": "a44857dd",
   "metadata": {},
   "outputs": [
    {
     "name": "stderr",
     "output_type": "stream",
     "text": [
      "C:\\Users\\Admin\\AppData\\Local\\Temp\\ipykernel_7216\\465439902.py:4: LangChainDeprecationWarning: The method `BaseRetriever.get_relevant_documents` was deprecated in langchain-core 0.1.46 and will be removed in 1.0. Use :meth:`~invoke` instead.\n",
      "  docs = retriever.get_relevant_documents(query)\n"
     ]
    },
    {
     "name": "stdout",
     "output_type": "stream",
     "text": [
      "[1] Space inflation wasn’t the only issue. Between 2014 and 2015, Trump increased the value of the apartment to $US327 million from $US200 million. The prosecution argues that was to mask a drop in the value of one of his other properties. “A discrepancy of this order of magnitude, by a real estate...\n",
      "\n",
      "[2] appraisals he’d received from professionals, New York State argues. Trump has been accused of significantly over-valuing his flagship downtown New York property. Credit: Bloomberg For example, 40 Wall Street was appraised by a real estate company at $US200 million in 2011 and $US220 million in...\n",
      "\n",
      "[3] “In defendants’ world: rent regulated apartments are worth the same as unregulated apartments; restricted land is worth the same as unrestricted land; restrictions can evaporate into thin air; a disclaimer by one party casting responsibility on another party exonerates the other party’s lies,”...\n",
      "\n",
      "[4] of this order of magnitude, by a real estate developer sizing up his own living space of decades, can only be considered fraud,” Judge Arthur Engoron wrote in a September ruling. ‘The company has never been stronger and never been better.’ Eric Trump Bloomberg values the property using recent Trump...\n",
      "\n",
      "[5] Among the allegations were that Trump claimed his Trump Tower apartment in Manhattan — a three-story penthouse replete with gold-plated fixtures — was nearly three times its actual size and valued the property at $327 million. No apartment in New York City has ever sold for close to that amount,...\n",
      "\n"
     ]
    }
   ],
   "source": [
    "retriever = vector_store.as_retriever(search_kwargs={\"k\": 5})\n",
    "\n",
    "query = \"Which individual is implicated in both inflating the value of a Manhattan apartment to a figure not yet achieved in New York City's real estate history, according to 'Fortune', and is also accused of adjusting this apartment's valuation to compensate for a loss in another asset's worth, as reported by 'The Age'?\"\n",
    "docs = retriever.get_relevant_documents(query)\n",
    "\n",
    "for i, doc in enumerate(docs, 1):\n",
    "    print(f\"[{i}] {doc.page_content[:300]}...\\n\")\n"
   ]
  },
  {
   "cell_type": "code",
   "execution_count": 8,
   "id": "33b48e10",
   "metadata": {},
   "outputs": [],
   "source": [
    "from llm import gemini_llm\n",
    "from typing import List, Dict\n",
    "from langchain.chains import LLMChain\n",
    "from langchain.prompts import PromptTemplate\n",
    "from langchain.vectorstores.base import VectorStore\n",
    "from langchain.schema import BaseRetriever, Document\n",
    "\n",
    "class IRCoTChain:\n",
    "    def __init__(self, retriever: BaseRetriever, llm):\n",
    "        self.retriever = retriever\n",
    "        self.llm = llm\n",
    "\n",
    "        self.reasoning_chain = LLMChain(\n",
    "            llm=self.llm,\n",
    "            prompt=PromptTemplate(\n",
    "                input_variables=[\"question\", \"context\"],\n",
    "                template=\"\"\"\n",
    "You are answering a multi-hop question. Use the context below to reason step-by-step.\n",
    "\n",
    "Question: {question}\n",
    "\n",
    "Context:\n",
    "{context}\n",
    "\n",
    "Reasoning:\n",
    "\"\"\"\n",
    "            )\n",
    "        )\n",
    "\n",
    "        self.query_chain = LLMChain(\n",
    "            llm=self.llm,\n",
    "            prompt=PromptTemplate(\n",
    "                input_variables=[\"reasoning\"],\n",
    "                template=\"\"\"\n",
    "Based on the reasoning below, what should be the next search query?\n",
    "\n",
    "Reasoning:\n",
    "{reasoning}\n",
    "\n",
    "Next query:\n",
    "\"\"\"\n",
    "            )\n",
    "        )\n",
    "\n",
    "        self.answer_chain = LLMChain(\n",
    "            llm=self.llm,\n",
    "            prompt=PromptTemplate(\n",
    "                input_variables=[\"question\", \"context1\", \"context2\", \"reasoning\"],\n",
    "                template=\"\"\"\n",
    "Answer the question below using the combined context and reasoning.\n",
    "\n",
    "Question: {question}\n",
    "\n",
    "First Evidence:\n",
    "{context1}\n",
    "\n",
    "Second Evidence:\n",
    "{context2}\n",
    "\n",
    "Reasoning:\n",
    "{reasoning}\n",
    "\n",
    "Final Answer:\n",
    "\"\"\"\n",
    "            )\n",
    "        )\n",
    "\n",
    "    def run(self, question: str) -> Dict:\n",
    "        # Step 1: Retrieve initial context\n",
    "        docs_0 = self.retriever.get_relevant_documents(question)\n",
    "        context_0 = \"\\n\\n\".join([doc.page_content for doc in docs_0])\n",
    "\n",
    "        # Step 2: Reasoning step\n",
    "        reasoning = self.reasoning_chain.run(question=question, context=context_0)\n",
    "\n",
    "        # Step 3: Reformulate query from reasoning\n",
    "        new_query = self.query_chain.run(reasoning=reasoning)\n",
    "\n",
    "        # Step 4: Second round retrieval\n",
    "        docs_1 = self.retriever.get_relevant_documents(new_query)\n",
    "        context_1 = \"\\n\\n\".join([doc.page_content for doc in docs_1])\n",
    "\n",
    "        # Step 5: Generate final answer\n",
    "        final_answer = self.answer_chain.run(\n",
    "            question=question,\n",
    "            context1=context_0,\n",
    "            context2=context_1,\n",
    "            reasoning=reasoning\n",
    "        )\n",
    "\n",
    "        return {\n",
    "            \"question\": question,\n",
    "            \"final_answer\": final_answer.strip(),\n",
    "            \"reasoning\": reasoning.strip(),\n",
    "            \"reformulated_query\": new_query.strip(),\n",
    "            \"evidence_1\": context_0[:500],\n",
    "            \"evidence_2\": context_1[:500]\n",
    "        }\n"
   ]
  },
  {
   "cell_type": "code",
   "execution_count": 9,
   "id": "1ef64f05",
   "metadata": {},
   "outputs": [
    {
     "name": "stderr",
     "output_type": "stream",
     "text": [
      "C:\\Users\\Admin\\AppData\\Local\\Temp\\ipykernel_7216\\291527597.py:13: LangChainDeprecationWarning: The class `LLMChain` was deprecated in LangChain 0.1.17 and will be removed in 1.0. Use :meth:`~RunnableSequence, e.g., `prompt | llm`` instead.\n",
      "  self.reasoning_chain = LLMChain(\n",
      "C:\\Users\\Admin\\AppData\\Local\\Temp\\ipykernel_7216\\291527597.py:74: LangChainDeprecationWarning: The method `Chain.run` was deprecated in langchain 0.1.0 and will be removed in 1.0. Use :meth:`~invoke` instead.\n",
      "  reasoning = self.reasoning_chain.run(question=question, context=context_0)\n"
     ]
    }
   ],
   "source": [
    "ircot = IRCoTChain(retriever=vector_store.as_retriever(), llm=gemini_llm)\n",
    "result = ircot.run(\"Who is the figure associated with generative AI technology whose departure from OpenAI was considered shocking according to Fortune, and is also the subject of a prevailing theory suggesting a lack of full truthfulness with the board as reported by TechCrunch?\")\n"
   ]
  },
  {
   "cell_type": "code",
   "execution_count": 10,
   "id": "e29c985d",
   "metadata": {},
   "outputs": [
    {
     "name": "stdout",
     "output_type": "stream",
     "text": [
      "The drama inside OpenAI gave the world its first glimpse of the bitter feuds among those who will determine the future of AI. But years before OpenAI’s near meltdown, there was a little-publicised but ferocious competition in Silicon Valley for control of the technology that is now quickly\n",
      "\n",
      "Not everybody was quite so enthusiastic about the pace at which generative AI was being adopted, mind you. In March, OpenAI co-founder Elon Musk, as well as Steve Wozniak and a slew of associated AI researche\n"
     ]
    }
   ],
   "source": [
    "print(result[\"evidence_1\"])"
   ]
  },
  {
   "cell_type": "code",
   "execution_count": 11,
   "id": "dcd6b5c7",
   "metadata": {},
   "outputs": [],
   "source": [
    "import re\n",
    "from typing import List\n",
    "from sklearn.metrics import f1_score\n",
    "from collections import Counter\n",
    "\n",
    "def normalize_text(s: str) -> str:\n",
    "    s = s.lower()\n",
    "    s = re.sub(r'[^a-z0-9\\s]', '', s)\n",
    "    s = re.sub(r'\\s+', ' ', s).strip()\n",
    "    return s\n",
    "\n",
    "def f1_for_answer(prediction: str, ground_truth: str) -> float:\n",
    "    pred_tokens = normalize_text(prediction).split()\n",
    "    gt_tokens = normalize_text(ground_truth).split()\n",
    "    \n",
    "    if len(pred_tokens) == 0 or len(gt_tokens) == 0:\n",
    "        return 0.0\n",
    "    \n",
    "    common = Counter(pred_tokens) & Counter(gt_tokens)\n",
    "    num_same = sum(common.values())\n",
    "\n",
    "    if num_same == 0:\n",
    "        return 0.0\n",
    "\n",
    "    precision = num_same / len(pred_tokens)\n",
    "    recall = num_same / len(gt_tokens)\n",
    "    f1 = 2 * precision * recall / (precision + recall)\n",
    "    return f1\n"
   ]
  },
  {
   "cell_type": "code",
   "execution_count": 12,
   "id": "855a8846",
   "metadata": {},
   "outputs": [],
   "source": [
    "def evaluate_f1(testset: List[dict], predictions: List[str]) -> float:\n",
    "    assert len(testset) == len(predictions), \"Số lượng dự đoán không khớp testset\"\n",
    "\n",
    "    scores = []\n",
    "    for item, pred in zip(testset, predictions):\n",
    "        gt = item[\"answer\"]\n",
    "        score = f1_for_answer(pred, gt)\n",
    "        scores.append(score)\n",
    "    \n",
    "    average_f1 = sum(scores) / len(scores)\n",
    "    return average_f1\n"
   ]
  },
  {
   "cell_type": "code",
   "execution_count": 13,
   "id": "52562964",
   "metadata": {},
   "outputs": [],
   "source": [
    "import time\n",
    "\n",
    "def run_ircot_on_testset(testset, ircot_chain, max_questions=100, delay_seconds=5):\n",
    "    predictions = []\n",
    "    for idx, item in enumerate(testset[:max_questions]):\n",
    "        query = item[\"query\"]\n",
    "        print(f\"[{idx+1}/{max_questions}] Running IRCoT on query: {query[:80]}...\")\n",
    "        try:\n",
    "            result = ircot_chain.run(query)\n",
    "            prediction = result[\"final_answer\"]\n",
    "        except Exception as e:\n",
    "            print(f\"Error on query {idx}: {e}\")\n",
    "            prediction = \"\"\n",
    "        predictions.append(prediction)\n",
    "        time.sleep(delay_seconds) \n",
    "    return predictions\n"
   ]
  },
  {
   "cell_type": "code",
   "execution_count": null,
   "id": "96a9ab84",
   "metadata": {},
   "outputs": [],
   "source": []
  },
  {
   "cell_type": "code",
   "execution_count": 16,
   "id": "057a5f31",
   "metadata": {},
   "outputs": [
    {
     "name": "stdout",
     "output_type": "stream",
     "text": [
      "Q2: GT = Donald Trump | Pred = Trump\n",
      "Q4: GT = Yes | Pred = The Hacker News article on The Epoch Times does report an increase in revenue related to subscription models, but there's no information provided about the TechCrunch article.\n",
      "Q5: GT = Caesars Sportsbook | Pred = Cannot be determined from the information provided.\n",
      "Q7: GT = Yes | Pred = Cannot be determined.\n",
      "Q8: GT = Yes | Pred = The 'New York Times' attribution is unclear based on the provided context, while the 'Sporting News' suggestion about the Ravens' defense is implied but not explicitly stated.\n",
      "Q9: GT = OpenAI | Pred = This question cannot be answered with the given context.\n",
      "Q10: GT = Google | Pred = \n",
      "Q11: GT = Insufficient information. | Pred = \n",
      "Q12: GT = Yes | Pred = Partially correct.\n",
      "\n",
      "The first part of your answer is correct: The 'Age' article does suggest the Davis Cup team is aiming for improvement, seeking their first win in 20 years.\n",
      "\n",
      "However, the second part of your answer is incorrect. The second piece of evidence *does* state that South Africa has \"taken their game to new heights just to reach the semis.\" This clearly indicates an improvement sufficient to reach the semi-finals.\n",
      "\n",
      "Therefore, the corrected answer is:\n",
      "\n",
      "Yes, the 'Age' article suggests that Australia's Davis Cup team is aiming for an improvement in their performance compared to the previous year, and the 'Sporting News' article indicates that the South Africa national rugby team has already achieved an improvement to reach the Rugby World Cup semi-finals.\n",
      "Q13: GT = Yes | Pred = Impossible to determine.\n",
      "Q14: GT = Insufficient information. | Pred = I am unable to answer this question. The provided text snippets do not contain the answer.\n",
      "Q15: GT = Yes | Pred = Cannot determine.\n",
      "Q16: GT = European Commission | Pred = The European Commission.\n",
      "Q17: GT = Amazon | Pred = \n",
      "Q18: GT = no | Pred = \n",
      "Q19: GT = Insufficient information. | Pred = Unable to answer.\n",
      "Q20: GT = no | Pred = No, the Sporting News article does not suggest that streaming services do not require a subscription for viewing the Cowboys vs. 49ers game.\n",
      "Q21: GT = Insufficient information. | Pred = This question cannot be answered from the given context.\n",
      "Q22: GT = no | Pred = Based on the provided documents, the advice from Sporting News during the specified period (September 28, 2023, to December 18, 2023) did not involve reading requirements or focusing on hype. While one article discussed betting opportunities for Week 9 of the NFL season, it didn't specifically advise going with the favored Eagles. Instead, it mentioned moneyline, spread, over/under, and player prop bets.\n",
      "Q24: GT = no | Pred = \n",
      "Q25: GT = Insufficient information. | Pred = \n",
      "Q26: GT = no | Pred = Final Answer: I cannot determine the answer from the given information.\n",
      "Q27: GT = no | Pred = Unable to answer.\n",
      "Q28: GT = Yes | Pred = The TechCrunch article does suggest that Amazon's large language model (LLM) is not trained on kids' responses, while I cannot determine if The Age article raises concerns about TikTok's pixel collecting data without consent since there is no information about \"The Age\" article provided in the context.\n",
      "Q29: GT = no | Pred = Based on the provided text, Nike's sales in North America fell 2%. The text doesn't give us any information about the CNBC report on Nike's Latin America and Asia Pacific unit or the Fortune article on U.S. home sales prices. We can only confirm a decrease for Nike's North American sales. Therefore, the report from Cnbc | World Business News Leader on \"Nike's Latin America and Asia Pacific unit\" is unknown, however the passage did confirm that the sales for North America did decrease.\n",
      "Q30: GT = no | Pred = The coverage of ski resorts appears to have shifted from a focus on \"exclusive\" and \"five-star\" experiences (Zermatt and Vail) to mentioning specific hotels and travel packages, such as British Airways Holidays trips to the Fairmont Tremblant with ski-in/ski-out locations and spa facilities. This suggests a potential shift towards more practical travel information alongside the luxury aspects.\n",
      "Q31: GT = Google | Pred = \n",
      "Q32: GT = Yes | Pred = \n",
      "Q35: GT = no | Pred = Cannot be determined.\n",
      "Q36: GT = Yes | Pred = No, Yes.\n",
      "Q37: GT = Yes | Pred = No\n",
      "Q38: GT = Yes | Pred = \n",
      "Q39: GT = Insufficient information. | Pred = My apologies, I am unable to answer the question, as the provided contexts do not contain the relevant information about Sygic's headquarters or CEO.\n",
      "Q40: GT = Insufficient information. | Pred = The provided context does not contain information about the CEO of Pets Best Insurance Services. Therefore, I cannot determine the letter of the alphabet that starts their name.\n",
      "Q42: GT = no | Pred = Based on the context provided:\n",
      "1.  There is no information about The Independent - Sports reporting on the All Blacks' home victories.\n",
      "2.  There is no information about The Roar | Sports Writers Blog reporting on Argentina's victories.\n",
      "Therefore, it is not possible to determine if the reporting on the All Blacks' defeats by Argentina was consistent.\n",
      "Q44: GT = no | Pred = \n",
      "Q45: GT = Alameda Research | Pred = \n",
      "Q47: GT = Yes | Pred = Yes, based on the provided text and reasoning, my answer is:\n",
      "\n",
      "Yes, the anticompetitive behavior towards news publishers mentioned is a separate issue from financial influences, as they focus on distinct facets of Google's actions.\n",
      "Q48: GT = no | Pred = The TechCrunch article suggests that the success in \"North America's EV market\" is *inversely* related to the size and price; that is, the *failure* of small and lower-priced EVs is discussed. The Verge article does focus on Donald Trump's criticism of electric vehicles regarding their cost, range, and impact on American jobs. Therefore, the answer is Yes.\n",
      "Q49: GT = Insufficient information. | Pred = I am unable to answer this question. The provided context does not contain the names of any Zimbabwean ministers or details about partnerships to boost crop production.\n",
      "Q50: GT = Insufficient information. | Pred = This question cannot be answered from the given context.\n",
      "Q51: GT = Yes | Pred = \n",
      "Q52: GT = no | Pred = \n",
      "Q53: GT = Yes | Pred = The TalkSport article does suggest that Manchester United's defensive performance in the Champions League group stages is worse than in previous years, as indicated by a new record for goals conceded. The provided passage does include information from The Guardian article. The second passage states \"When it comes to pressure in the Champions League of late, United do not cope well and there are few events trickier than a night in Istanbul\". This implies that Manchester United's overall performance under pressure in the Champions League, especially in Istanbul, has been consistently poor.\n",
      "Q54: GT = no | Pred = Yes\n",
      "Q55: GT = Yes | Pred = Based on the provided text, the TechCrunch article on Israel's tech employees suggests a far greater scale of impact on workforce mobilization due to the war compared to the TechCrunch article on GitLab's workforce reduction. The Israel article describes a situation where 10-30% of the entire tech workforce is being mobilized due to the war, and the destruction of the tech industry in Gaza. In contrast, the GitLab article describes a 7% reduction in headcount, affecting around 114 people. This is a significant difference in scale, as the Israel article implies a massive disruption to the tech industry due to widespread mobilization for war, while the GitLab article discusses a company-specific reduction in workforce size.\n",
      "\n",
      "Therefore, the final answer is:\n",
      "\n",
      "Yes\n",
      "Q56: GT = Yes | Pred = No, the Sporting News did not report a Cowboys victory over the Seahawks, but yes, they did report a Lions win against the Packers.\n",
      "Q57: GT = Tyreek Hill | Pred = I am sorry, but I cannot answer the question. The provided text snippets do not include the answer.\n",
      "Q58: GT = no | Pred = \n",
      "Q59: GT = Yes | Pred = \n",
      "Q63: GT = no | Pred = Yes\n",
      "Q65: GT = Sam Bankman-Fried | Pred = \n",
      "Q67: GT = Apple | Pred = $\\boxed{Apple}$\n",
      "Q70: GT = Yes | Pred = No.\n",
      "Q71: GT = Amazon | Pred = \n",
      "Q72: GT = Yes | Pred = The Sporting News article anticipates an impressive performance in the upcoming game for Jordan Love. The provided text from CBSSports.com reflects on Kirk Cousins' performance in last week's game with only 13 Fantasy points.\n",
      "Q73: GT = Yes | Pred = Cannot be determined.\n",
      "Q74: GT = Yes | Pred = Yes, the CBSSports.com article suggests that the Minnesota Vikings' passing play percentage in Week 4 was lower than in previous weeks. The Sporting News articles indicate a strong defensive performance and consistent offensive results under Josh Dobbs' leadership compared to Kirk Cousins.\n",
      "Q75: GT = Everton Football Club | Pred = Everton\n",
      "Q76: GT = Federal Reserve | Pred = Final Answer: The final answer is $\\boxed{Federal Reserve}$\n",
      "Q77: GT = no | Pred = \n",
      "Q78: GT = Google | Pred = \n",
      "Q80: GT = no | Pred = No.\n",
      "Q81: GT = Google | Pred = $\\boxed{Google}$\n",
      "Q82: GT = Yes | Pred = I am unable to determine whether there was consistency in the promotional offers reported for new customers at Caesars Sportsbook between the Sporting News report on September 26, 2023, and the CBSSports.com report, as the latter report is not provided.\n",
      "Q83: GT = no | Pred = No. The Polygon article suggests Scorsese has *more* autonomy now, not less. The provided text does not include information about The Independent - Life and Style article or Scorsese's engagement with TikTok.\n",
      "Q84: GT = no | Pred = \n",
      "Q85: GT = no | Pred = \n",
      "Q86: GT = Yes | Pred = Yes, the passage includes the statement, \"There was no attempt to remove Sam Altman from OpenAI by the co-founders of Anthropic,” said an\", supporting the suggestion that 'The Age' article indicates that Anthropic's co-founders did not try to remove Sam Altman from OpenAI. It also includes \"In perhaps the most unexpected tech news of the year, billionaire and AI evangelist Sam Altman has been ejected from his CEO role at OpenAI by the company’s board after an apparent vote of no confidence.\" and \"Sam Altman has been fired from OpenAI\", implying that Sam Altman's departure from OpenAI was unexpected and not initiated by him, as the 'Fortune' article suggests.\n",
      "Q87: GT = no | Pred = Yes\n",
      "Q89: GT = Sam Bankman-Fried | Pred = Based on the information provided, the individual described fits the profile of someone who rapidly accumulated wealth and is now facing criminal charges for fraud and conspiracy. However, the person's name is not mentioned in the given context.\n",
      "Q90: GT = Agree | Pred = Cannot be determined.\n",
      "Q91: GT = Yes | Pred = \n",
      "Q93: GT = no | Pred = Cannot be determined.\n",
      "Q95: GT = Yes | Pred = It is not possible to determine the answer based on the context. The provided text focuses on Connor Bedard's debut and lacks information about what 'The New York Times' or 'Sporting News' articles suggest regarding his potential or the USC basketball team.\n",
      "Q96: GT = Yes | Pred = Yes, between the report from CBSSports.com published on October 12, 2023, and the report from The Independent - Life and Style published on December 6, 2023, there was a change in the reporting of Taylor Swift's relationship status.\n",
      "Q97: GT = Yes | Pred = \n",
      "Q98: GT = Google | Pred = \n",
      "Q99: GT = Agree | Pred = Both articles agree that Sportsbooks adjust their practices (profit from odds and lines, and tighten betting lines) based on certain conditions.\n",
      "Q100: GT = no | Pred = The provided context does not contain the answer to this question.\n"
     ]
    }
   ],
   "source": [
    "# Giả sử bạn đã có ircot = IRCoTChain(...)\n",
    "testset = load_json(\"data/testset.json\")\n",
    "predictions = ['Sam Bankman-Fried', 'Trump', 'Sam Altman', \"The Hacker News article on The Epoch Times does report an increase in revenue related to subscription models, but there's no information provided about the TechCrunch article.\", 'Cannot be determined from the information provided.', 'Sam Bankman-Fried', 'Cannot be determined.', \"The 'New York Times' attribution is unclear based on the provided context, while the 'Sporting News' suggestion about the Ravens' defense is implied but not explicitly stated.\", 'This question cannot be answered with the given context.', '', '', 'Partially correct.\\n\\nThe first part of your answer is correct: The \\'Age\\' article does suggest the Davis Cup team is aiming for improvement, seeking their first win in 20 years.\\n\\nHowever, the second part of your answer is incorrect. The second piece of evidence *does* state that South Africa has \"taken their game to new heights just to reach the semis.\" This clearly indicates an improvement sufficient to reach the semi-finals.\\n\\nTherefore, the corrected answer is:\\n\\nYes, the \\'Age\\' article suggests that Australia\\'s Davis Cup team is aiming for an improvement in their performance compared to the previous year, and the \\'Sporting News\\' article indicates that the South Africa national rugby team has already achieved an improvement to reach the Rugby World Cup semi-finals.', 'Impossible to determine.', 'I am unable to answer this question. The provided text snippets do not contain the answer.', 'Cannot determine.', 'The European Commission.', '', '', 'Unable to answer.', 'No, the Sporting News article does not suggest that streaming services do not require a subscription for viewing the Cowboys vs. 49ers game.', 'This question cannot be answered from the given context.', \"Based on the provided documents, the advice from Sporting News during the specified period (September 28, 2023, to December 18, 2023) did not involve reading requirements or focusing on hype. While one article discussed betting opportunities for Week 9 of the NFL season, it didn't specifically advise going with the favored Eagles. Instead, it mentioned moneyline, spread, over/under, and player prop bets.\", 'Valve', '', '', 'Final Answer: I cannot determine the answer from the given information.', 'Unable to answer.', 'The TechCrunch article does suggest that Amazon\\'s large language model (LLM) is not trained on kids\\' responses, while I cannot determine if The Age article raises concerns about TikTok\\'s pixel collecting data without consent since there is no information about \"The Age\" article provided in the context.', 'Based on the provided text, Nike\\'s sales in North America fell 2%. The text doesn\\'t give us any information about the CNBC report on Nike\\'s Latin America and Asia Pacific unit or the Fortune article on U.S. home sales prices. We can only confirm a decrease for Nike\\'s North American sales. Therefore, the report from Cnbc | World Business News Leader on \"Nike\\'s Latin America and Asia Pacific unit\" is unknown, however the passage did confirm that the sales for North America did decrease.', 'The coverage of ski resorts appears to have shifted from a focus on \"exclusive\" and \"five-star\" experiences (Zermatt and Vail) to mentioning specific hotels and travel packages, such as British Airways Holidays trips to the Fairmont Tremblant with ski-in/ski-out locations and spa facilities. This suggests a potential shift towards more practical travel information alongside the luxury aspects.', '', '', 'Sam Altman', 'Uber', 'Cannot be determined.', 'No, Yes.', 'No', '', \"My apologies, I am unable to answer the question, as the provided contexts do not contain the relevant information about Sygic's headquarters or CEO.\", 'The provided context does not contain information about the CEO of Pets Best Insurance Services. Therefore, I cannot determine the letter of the alphabet that starts their name.', 'Yes', \"Based on the context provided:\\n1.  There is no information about The Independent - Sports reporting on the All Blacks' home victories.\\n2.  There is no information about The Roar | Sports Writers Blog reporting on Argentina's victories.\\nTherefore, it is not possible to determine if the reporting on the All Blacks' defeats by Argentina was consistent.\", 'Yes', '', '', 'Sam Altman', \"Yes, based on the provided text and reasoning, my answer is:\\n\\nYes, the anticompetitive behavior towards news publishers mentioned is a separate issue from financial influences, as they focus on distinct facets of Google's actions.\", 'The TechCrunch article suggests that the success in \"North America\\'s EV market\" is *inversely* related to the size and price; that is, the *failure* of small and lower-priced EVs is discussed. The Verge article does focus on Donald Trump\\'s criticism of electric vehicles regarding their cost, range, and impact on American jobs. Therefore, the answer is Yes.', 'I am unable to answer this question. The provided context does not contain the names of any Zimbabwean ministers or details about partnerships to boost crop production.', 'This question cannot be answered from the given context.', '', '', 'The TalkSport article does suggest that Manchester United\\'s defensive performance in the Champions League group stages is worse than in previous years, as indicated by a new record for goals conceded. The provided passage does include information from The Guardian article. The second passage states \"When it comes to pressure in the Champions League of late, United do not cope well and there are few events trickier than a night in Istanbul\". This implies that Manchester United\\'s overall performance under pressure in the Champions League, especially in Istanbul, has been consistently poor.', 'Yes', \"Based on the provided text, the TechCrunch article on Israel's tech employees suggests a far greater scale of impact on workforce mobilization due to the war compared to the TechCrunch article on GitLab's workforce reduction. The Israel article describes a situation where 10-30% of the entire tech workforce is being mobilized due to the war, and the destruction of the tech industry in Gaza. In contrast, the GitLab article describes a 7% reduction in headcount, affecting around 114 people. This is a significant difference in scale, as the Israel article implies a massive disruption to the tech industry due to widespread mobilization for war, while the GitLab article discusses a company-specific reduction in workforce size.\\n\\nTherefore, the final answer is:\\n\\nYes\", 'No, the Sporting News did not report a Cowboys victory over the Seahawks, but yes, they did report a Lions win against the Packers.', 'I am sorry, but I cannot answer the question. The provided text snippets do not include the answer.', '', '', 'Yes', 'Lionel Messi', 'Sam Bankman-Fried', 'Yes', 'Meta', '', 'Google', '$\\\\boxed{Apple}$', 'Bettors', 'Spotify', 'No.', '', \"The Sporting News article anticipates an impressive performance in the upcoming game for Jordan Love. The provided text from CBSSports.com reflects on Kirk Cousins' performance in last week's game with only 13 Fantasy points.\", 'Cannot be determined.', \"Yes, the CBSSports.com article suggests that the Minnesota Vikings' passing play percentage in Week 4 was lower than in previous weeks. The Sporting News articles indicate a strong defensive performance and consistent offensive results under Josh Dobbs' leadership compared to Kirk Cousins.\", 'Everton', 'Final Answer: The final answer is $\\\\boxed{Federal Reserve}$', '', '', 'Sam Bankman-Fried', 'No.', '$\\\\boxed{Google}$', 'I am unable to determine whether there was consistency in the promotional offers reported for new customers at Caesars Sportsbook between the Sporting News report on September 26, 2023, and the CBSSports.com report, as the latter report is not provided.', \"No. The Polygon article suggests Scorsese has *more* autonomy now, not less. The provided text does not include information about The Independent - Life and Style article or Scorsese's engagement with TikTok.\", '', '', 'Yes, the passage includes the statement, \"There was no attempt to remove Sam Altman from OpenAI by the co-founders of Anthropic,” said an\", supporting the suggestion that \\'The Age\\' article indicates that Anthropic\\'s co-founders did not try to remove Sam Altman from OpenAI. It also includes \"In perhaps the most unexpected tech news of the year, billionaire and AI evangelist Sam Altman has been ejected from his CEO role at OpenAI by the company’s board after an apparent vote of no confidence.\" and \"Sam Altman has been fired from OpenAI\", implying that Sam Altman\\'s departure from OpenAI was unexpected and not initiated by him, as the \\'Fortune\\' article suggests.', 'Yes', 'Yes', \"Based on the information provided, the individual described fits the profile of someone who rapidly accumulated wealth and is now facing criminal charges for fraud and conspiracy. However, the person's name is not mentioned in the given context.\", 'Cannot be determined.', '', 'Yes', 'Cannot be determined.', 'Sam Bankman-Fried', \"It is not possible to determine the answer based on the context. The provided text focuses on Connor Bedard's debut and lacks information about what 'The New York Times' or 'Sporting News' articles suggest regarding his potential or the USC basketball team.\", \"Yes, between the report from CBSSports.com published on October 12, 2023, and the report from The Independent - Life and Style published on December 6, 2023, there was a change in the reporting of Taylor Swift's relationship status.\", '', '', 'Both articles agree that Sportsbooks adjust their practices (profit from odds and lines, and tighten betting lines) based on certain conditions.', 'The provided context does not contain the answer to this question.']\n",
    "\n",
    "#predictions = run_ircot_on_testset(testset, ircot)\n",
    "\n",
    "# In từng dự đoán (tuỳ chọn)\n",
    "for i, (gt, pred) in enumerate(zip(testset, predictions)):\n",
    "    if gt['answer'] != pred:\n",
    "        print(f\"Q{i+1}: GT = {gt['answer']} | Pred = {pred}\")\n",
    "\n",
    "\n"
   ]
  },
  {
   "cell_type": "code",
   "execution_count": 18,
   "id": "4057240d",
   "metadata": {},
   "outputs": [
    {
     "name": "stdout",
     "output_type": "stream",
     "text": [
      "0.2453465381009446\n"
     ]
    }
   ],
   "source": [
    "print(evaluate_f1(testset[:100], predictions))"
   ]
  },
  {
   "cell_type": "code",
   "execution_count": null,
   "id": "4c79c19b",
   "metadata": {},
   "outputs": [],
   "source": []
  }
 ],
 "metadata": {
  "kernelspec": {
   "display_name": "chatbot_py310",
   "language": "python",
   "name": "python3"
  },
  "language_info": {
   "codemirror_mode": {
    "name": "ipython",
    "version": 3
   },
   "file_extension": ".py",
   "mimetype": "text/x-python",
   "name": "python",
   "nbconvert_exporter": "python",
   "pygments_lexer": "ipython3",
   "version": "3.10.16"
  }
 },
 "nbformat": 4,
 "nbformat_minor": 5
}
